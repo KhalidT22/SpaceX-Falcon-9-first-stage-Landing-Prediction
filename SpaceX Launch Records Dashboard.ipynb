{
 "cells": [
  {
   "cell_type": "code",
   "execution_count": 1,
   "id": "d5880b40",
   "metadata": {},
   "outputs": [],
   "source": [
    "# Import required libraries\n",
    "import pandas as pd\n",
    "import dash\n",
    "from dash import html\n",
    "from dash import dcc\n",
    "from dash.dependencies import Input, Output\n",
    "import plotly.express as px"
   ]
  },
  {
   "cell_type": "code",
   "execution_count": 2,
   "id": "5a29a8cd",
   "metadata": {},
   "outputs": [
    {
     "name": "stdout",
     "output_type": "stream",
     "text": [
      "Downloaded: spacex_launch_dash.csv\n"
     ]
    }
   ],
   "source": [
    "import requests\n",
    "url = \"https://cf-courses-data.s3.us.cloud-object-storage.appdomain.cloud/IBM-DS0321EN-SkillsNetwork/datasets/spacex_launch_dash.csv\"\n",
    "filename = \"spacex_launch_dash.csv\"\n",
    "response = requests.get(url)\n",
    "if response.status_code == 200:\n",
    "    with open(filename, \"wb\") as f:\n",
    "        f.write(response.content)\n",
    "    print(f\"Downloaded: {filename}\")"
   ]
  },
  {
   "cell_type": "code",
   "execution_count": 3,
   "id": "e9e91f9f",
   "metadata": {},
   "outputs": [
    {
     "data": {
      "text/html": [
       "<div>\n",
       "<style scoped>\n",
       "    .dataframe tbody tr th:only-of-type {\n",
       "        vertical-align: middle;\n",
       "    }\n",
       "\n",
       "    .dataframe tbody tr th {\n",
       "        vertical-align: top;\n",
       "    }\n",
       "\n",
       "    .dataframe thead th {\n",
       "        text-align: right;\n",
       "    }\n",
       "</style>\n",
       "<table border=\"1\" class=\"dataframe\">\n",
       "  <thead>\n",
       "    <tr style=\"text-align: right;\">\n",
       "      <th></th>\n",
       "      <th>Unnamed: 0</th>\n",
       "      <th>Flight Number</th>\n",
       "      <th>Launch Site</th>\n",
       "      <th>class</th>\n",
       "      <th>Payload Mass (kg)</th>\n",
       "      <th>Booster Version</th>\n",
       "      <th>Booster Version Category</th>\n",
       "    </tr>\n",
       "  </thead>\n",
       "  <tbody>\n",
       "    <tr>\n",
       "      <th>0</th>\n",
       "      <td>0</td>\n",
       "      <td>1</td>\n",
       "      <td>CCAFS LC-40</td>\n",
       "      <td>0</td>\n",
       "      <td>0.0</td>\n",
       "      <td>F9 v1.0  B0003</td>\n",
       "      <td>v1.0</td>\n",
       "    </tr>\n",
       "    <tr>\n",
       "      <th>1</th>\n",
       "      <td>1</td>\n",
       "      <td>2</td>\n",
       "      <td>CCAFS LC-40</td>\n",
       "      <td>0</td>\n",
       "      <td>0.0</td>\n",
       "      <td>F9 v1.0  B0004</td>\n",
       "      <td>v1.0</td>\n",
       "    </tr>\n",
       "    <tr>\n",
       "      <th>2</th>\n",
       "      <td>2</td>\n",
       "      <td>3</td>\n",
       "      <td>CCAFS LC-40</td>\n",
       "      <td>0</td>\n",
       "      <td>525.0</td>\n",
       "      <td>F9 v1.0  B0005</td>\n",
       "      <td>v1.0</td>\n",
       "    </tr>\n",
       "    <tr>\n",
       "      <th>3</th>\n",
       "      <td>3</td>\n",
       "      <td>4</td>\n",
       "      <td>CCAFS LC-40</td>\n",
       "      <td>0</td>\n",
       "      <td>500.0</td>\n",
       "      <td>F9 v1.0  B0006</td>\n",
       "      <td>v1.0</td>\n",
       "    </tr>\n",
       "    <tr>\n",
       "      <th>4</th>\n",
       "      <td>4</td>\n",
       "      <td>5</td>\n",
       "      <td>CCAFS LC-40</td>\n",
       "      <td>0</td>\n",
       "      <td>677.0</td>\n",
       "      <td>F9 v1.0  B0007</td>\n",
       "      <td>v1.0</td>\n",
       "    </tr>\n",
       "  </tbody>\n",
       "</table>\n",
       "</div>"
      ],
      "text/plain": [
       "   Unnamed: 0  Flight Number  Launch Site  class  Payload Mass (kg)  \\\n",
       "0           0              1  CCAFS LC-40      0                0.0   \n",
       "1           1              2  CCAFS LC-40      0                0.0   \n",
       "2           2              3  CCAFS LC-40      0              525.0   \n",
       "3           3              4  CCAFS LC-40      0              500.0   \n",
       "4           4              5  CCAFS LC-40      0              677.0   \n",
       "\n",
       "  Booster Version Booster Version Category  \n",
       "0  F9 v1.0  B0003                     v1.0  \n",
       "1  F9 v1.0  B0004                     v1.0  \n",
       "2  F9 v1.0  B0005                     v1.0  \n",
       "3  F9 v1.0  B0006                     v1.0  \n",
       "4  F9 v1.0  B0007                     v1.0  "
      ]
     },
     "execution_count": 3,
     "metadata": {},
     "output_type": "execute_result"
    }
   ],
   "source": [
    "# Read the airline data into pandas dataframe\n",
    "spacex_df = pd.read_csv(filename)\n",
    "max_payload = spacex_df['Payload Mass (kg)'].max()\n",
    "min_payload = spacex_df['Payload Mass (kg)'].min()\n",
    "spacex_df.head()"
   ]
  },
  {
   "cell_type": "code",
   "execution_count": 4,
   "id": "7abd3a85",
   "metadata": {},
   "outputs": [
    {
     "data": {
      "text/plain": [
       "[{'label': 'All Sites', 'value': 'All Sites'},\n",
       " {'label': 'CCAFS LC-40', 'value': 'CCAFS LC-40'},\n",
       " {'label': 'VAFB SLC-4E', 'value': 'VAFB SLC-4E'},\n",
       " {'label': 'KSC LC-39A', 'value': 'KSC LC-39A'},\n",
       " {'label': 'CCAFS SLC-40', 'value': 'CCAFS SLC-40'}]"
      ]
     },
     "execution_count": 4,
     "metadata": {},
     "output_type": "execute_result"
    }
   ],
   "source": [
    "site_options = [{'label': 'All Sites', 'value':'All Sites'}] + [\n",
    "    {'label': site, 'value': site} for site in spacex_df['Launch Site'].unique()\n",
    "        ]\n",
    "site_options"
   ]
  },
  {
   "cell_type": "code",
   "execution_count": 5,
   "id": "ef3339b4",
   "metadata": {},
   "outputs": [
    {
     "data": {
      "text/plain": [
       "9600.0"
      ]
     },
     "execution_count": 5,
     "metadata": {},
     "output_type": "execute_result"
    }
   ],
   "source": [
    "max_payload"
   ]
  },
  {
   "cell_type": "code",
   "execution_count": 6,
   "id": "9ea84da2",
   "metadata": {},
   "outputs": [
    {
     "data": {
      "text/html": [
       "<div>\n",
       "<style scoped>\n",
       "    .dataframe tbody tr th:only-of-type {\n",
       "        vertical-align: middle;\n",
       "    }\n",
       "\n",
       "    .dataframe tbody tr th {\n",
       "        vertical-align: top;\n",
       "    }\n",
       "\n",
       "    .dataframe thead th {\n",
       "        text-align: right;\n",
       "    }\n",
       "</style>\n",
       "<table border=\"1\" class=\"dataframe\">\n",
       "  <thead>\n",
       "    <tr style=\"text-align: right;\">\n",
       "      <th></th>\n",
       "      <th>Launch Site</th>\n",
       "      <th>class</th>\n",
       "      <th>0</th>\n",
       "    </tr>\n",
       "  </thead>\n",
       "  <tbody>\n",
       "    <tr>\n",
       "      <th>0</th>\n",
       "      <td>CCAFS LC-40</td>\n",
       "      <td>0</td>\n",
       "      <td>19</td>\n",
       "    </tr>\n",
       "    <tr>\n",
       "      <th>1</th>\n",
       "      <td>CCAFS LC-40</td>\n",
       "      <td>1</td>\n",
       "      <td>7</td>\n",
       "    </tr>\n",
       "  </tbody>\n",
       "</table>\n",
       "</div>"
      ],
      "text/plain": [
       "   Launch Site  class   0\n",
       "0  CCAFS LC-40      0  19\n",
       "1  CCAFS LC-40      1   7"
      ]
     },
     "execution_count": 6,
     "metadata": {},
     "output_type": "execute_result"
    }
   ],
   "source": [
    "site_count = spacex_df[spacex_df['Launch Site'] == 'CCAFS LC-40']\n",
    "site_count_group = site_count.groupby([\"Launch Site\",\"class\"]).size().reset_index()\n",
    "list(site_count_group[0].values)\n",
    "site_count_group.head()"
   ]
  },
  {
   "cell_type": "code",
   "execution_count": 7,
   "id": "88b5f319",
   "metadata": {},
   "outputs": [],
   "source": [
    "# Create a dash application\n",
    "app = dash.Dash(__name__)"
   ]
  },
  {
   "cell_type": "code",
   "execution_count": 8,
   "id": "736f9e1c",
   "metadata": {},
   "outputs": [],
   "source": [
    "# Create an app layout\n",
    "app.layout = html.Div(\n",
    "        children=[html.H1('SpaceX Launch Records Dashboard',\n",
    "                style={'textAlign': 'center', 'color': '#503D36',\n",
    "                       'font-size': 40}),\n",
    "        # TASK 1: Add a dropdown list to enable Launch Site selection\n",
    "        # The default select value is for ALL sites\n",
    "        # dcc.Dropdown(id='site-dropdown',...)\n",
    "           html.Div(       \n",
    "                  dcc.Dropdown(\n",
    "            id='site-dropdown',\n",
    "            options=site_options,\n",
    "            value='All Sites',\n",
    "            placeholder='Select a launch site',\n",
    "                      searchable=True\n",
    "        ) ),\n",
    "        html.Br(),\n",
    "\n",
    "        # TASK 2: Add a pie chart to show the total successful launches count for all sites\n",
    "        # If a specific launch site was selected, show the Success vs. Failed counts for the site\n",
    "        html.Div(dcc.Graph(id='success-pie-chart')),\n",
    "        html.Br(),\n",
    "\n",
    "        html.P(\"Payload range (Kg):\"),\n",
    "        # TASK 3: Add a slider to select payload range\n",
    "        html.Div([\n",
    "        dcc.RangeSlider(id='payload-slider',\n",
    "        min=0, max=10000, step=1000\n",
    "        ,marks={i: str(i) for i in range(int(min_payload), int(max_payload) + 1, 1000)}\n",
    ",\n",
    "        value=[int(min_payload), int(max_payload)]),\n",
    "\n",
    "    html.Div(id='slider-output')  # This will show the selected range\n",
    "]),\n",
    "\n",
    "        # TASK 4: Add a scatter chart to show the correlation between payload and launch success\n",
    "        html.Div(dcc.Graph(id='success-payload-scatter-chart')),\n",
    "        ])\n"
   ]
  },
  {
   "cell_type": "code",
   "execution_count": 9,
   "id": "951f442f",
   "metadata": {},
   "outputs": [],
   "source": [
    "# TASK 2:\n",
    "# Add a callback function for `site-dropdown` as input, `success-pie-chart` as output\n",
    "\n",
    "@app.callback(\n",
    "    Output(component_id='success-pie-chart', component_property='figure')\n",
    "    , Input(component_id='site-dropdown', component_property='value'))\n",
    "\n",
    "\n",
    "def update_pie_chart(Select_Site ):\n",
    "    if Select_Site == 'All Sites':\n",
    "\n",
    "        success_df = spacex_df[spacex_df['class'] == 1]\n",
    "        success_df_group = spacex_df.groupby([\"Launch Site\"])[\"class\"].sum().reset_index()\n",
    "        \n",
    "        fig=px.pie(success_df_group,\n",
    "                    values='class',\n",
    "                 names='Launch Site',\n",
    "                 title=\"Total Successful Launches Count for All Sites\"\n",
    "                )\n",
    "        return fig\n",
    "    else:\n",
    "        site_count = spacex_df[spacex_df['Launch Site'] == Select_Site]\n",
    "        site_count_group = site_count.groupby([\"Launch Site\",\"class\"]).size().reset_index()\n",
    "        fig=px.pie(site_count_group,\n",
    "                    values=list(site_count_group[0].values),\n",
    "                 names=[\"Failure\",\"Success\"],\n",
    "                 title=\"Success vs. Failed counts for site: \"+Select_Site\n",
    "                )\n",
    "        return fig   "
   ]
  },
  {
   "cell_type": "code",
   "execution_count": 10,
   "id": "e8ef91b5",
   "metadata": {},
   "outputs": [],
   "source": [
    "# TASK 4:\n",
    "# Add a callback function for `site-dropdown` and `payload-slider` as inputs, `success-payload-scatter-chart` as output\n",
    "@app.callback(\n",
    "    Output(component_id='success-payload-scatter-chart', component_property='figure'),[Input(component_id='site-dropdown', component_property='value'), Input(component_id=\"payload-slider\", component_property=\"value\")])\n",
    "\n",
    "\n",
    "def update_scatter_chart(Select_Site, Payload_Range ):\n",
    "    if Select_Site == 'All Sites':\n",
    "\n",
    "        df = spacex_df[(spacex_df['Payload Mass (kg)'] >=  Payload_Range[0]) &  (spacex_df['Payload Mass (kg)'] <=  Payload_Range[1])]\n",
    "        fig = px.scatter(df,x = 'Payload Mass (kg)', y = 'class', color = \"Booster Version Category\",title = \"Correlation between Payload and Success for all sites\")\n",
    "        return fig \n",
    "    else:\n",
    "        df = spacex_df[(spacex_df['Payload Mass (kg)'] >=  Payload_Range[0]) &  (spacex_df['Payload Mass (kg)'] <=  Payload_Range[1]) & (spacex_df['Launch Site'] == Select_Site)]\n",
    "        fig = px.scatter(df,x = 'Payload Mass (kg)', y = 'class', color = \"Booster Version Category\",title = \"Correlation between Payload and Success for site: \"+Select_Site)\n",
    "        return fig   "
   ]
  },
  {
   "cell_type": "code",
   "execution_count": 11,
   "id": "d681bce5",
   "metadata": {},
   "outputs": [
    {
     "data": {
      "text/html": [
       "\n",
       "        <iframe\n",
       "            width=\"100%\"\n",
       "            height=\"650\"\n",
       "            src=\"http://127.0.0.1:8050/\"\n",
       "            frameborder=\"0\"\n",
       "            allowfullscreen\n",
       "            \n",
       "        ></iframe>\n",
       "        "
      ],
      "text/plain": [
       "<IPython.lib.display.IFrame at 0x17cf7d26f10>"
      ]
     },
     "metadata": {},
     "output_type": "display_data"
    }
   ],
   "source": [
    "# Run the app\n",
    "import webbrowser\n",
    "import threading\n",
    "def open_browser():\n",
    "    webbrowser.open_new(\"http://127.0.0.1:8050/\")\n",
    "if __name__ == '__main__':\n",
    "    threading.Timer(1, open_browser).start()\n",
    "    app.run()"
   ]
  }
 ],
 "metadata": {
  "kernelspec": {
   "display_name": "Python 3 (ipykernel)",
   "language": "python",
   "name": "python3"
  },
  "language_info": {
   "codemirror_mode": {
    "name": "ipython",
    "version": 3
   },
   "file_extension": ".py",
   "mimetype": "text/x-python",
   "name": "python",
   "nbconvert_exporter": "python",
   "pygments_lexer": "ipython3",
   "version": "3.11.5"
  }
 },
 "nbformat": 4,
 "nbformat_minor": 5
}
